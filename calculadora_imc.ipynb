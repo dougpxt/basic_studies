{
 "cells": [
  {
   "cell_type": "code",
   "execution_count": 15,
   "metadata": {},
   "outputs": [
    {
     "name": "stdout",
     "output_type": "stream",
     "text": [
      "calculadora de IMC\n",
      "--------------------------------------------------\n"
     ]
    },
    {
     "ename": "ValueError",
     "evalue": "could not convert string to float: ''",
     "output_type": "error",
     "traceback": [
      "\u001b[0;31m---------------------------------------------------------------------------\u001b[0m",
      "\u001b[0;31mValueError\u001b[0m                                Traceback (most recent call last)",
      "Cell \u001b[0;32mIn[15], line 15\u001b[0m\n\u001b[1;32m      5\u001b[0m categorias_imc \u001b[39m=\u001b[39m {\n\u001b[1;32m      6\u001b[0m     (\u001b[39m0\u001b[39m, \u001b[39m18.4\u001b[39m): \u001b[39m'\u001b[39m\u001b[39mabaixo do peso\u001b[39m\u001b[39m'\u001b[39m,\n\u001b[1;32m      7\u001b[0m     (\u001b[39m18.5\u001b[39m, \u001b[39m24.9\u001b[39m): \u001b[39m'\u001b[39m\u001b[39mpeso normal\u001b[39m\u001b[39m'\u001b[39m,\n\u001b[0;32m   (...)\u001b[0m\n\u001b[1;32m     11\u001b[0m     (\u001b[39m40\u001b[39m, \u001b[39mfloat\u001b[39m(\u001b[39m'\u001b[39m\u001b[39minf\u001b[39m\u001b[39m'\u001b[39m)): \u001b[39m'\u001b[39m\u001b[39mobesidade 3\u001b[39m\u001b[39m'\u001b[39m\n\u001b[1;32m     12\u001b[0m }\n\u001b[1;32m     14\u001b[0m \u001b[39m# registrar input de usuário p/ PESO e ALTURA\u001b[39;00m\n\u001b[0;32m---> 15\u001b[0m altura \u001b[39m=\u001b[39m \u001b[39mfloat\u001b[39;49m(\u001b[39minput\u001b[39;49m(\u001b[39m'\u001b[39;49m\u001b[39msua altura(m): \u001b[39;49m\u001b[39m'\u001b[39;49m)\u001b[39m.\u001b[39;49mreplace(\u001b[39m'\u001b[39;49m\u001b[39m,\u001b[39;49m\u001b[39m'\u001b[39;49m, \u001b[39m'\u001b[39;49m\u001b[39m.\u001b[39;49m\u001b[39m'\u001b[39;49m))\n\u001b[1;32m     16\u001b[0m peso \u001b[39m=\u001b[39m \u001b[39mfloat\u001b[39m(\u001b[39minput\u001b[39m(\u001b[39m'\u001b[39m\u001b[39msua peso(kg): \u001b[39m\u001b[39m'\u001b[39m)\u001b[39m.\u001b[39mreplace(\u001b[39m'\u001b[39m\u001b[39m,\u001b[39m\u001b[39m'\u001b[39m, \u001b[39m'\u001b[39m\u001b[39m.\u001b[39m\u001b[39m'\u001b[39m)) \n\u001b[1;32m     18\u001b[0m \u001b[39m#calculo de IMC\u001b[39;00m\n",
      "\u001b[0;31mValueError\u001b[0m: could not convert string to float: ''"
     ]
    }
   ],
   "source": [
    "print('calculadora de IMC')\n",
    "print('-'*50)\n",
    "\n",
    "# criar tabela de medidas IMCs e suas classificações em um DICIONÁRIO\n",
    "categorias_imc = {\n",
    "    (0, 18.4): 'abaixo do peso',\n",
    "    (18.5, 24.9): 'peso normal',\n",
    "    (25, 29.9): 'acima do peso',\n",
    "    (30, 34.9): 'obesidade 1',\n",
    "    (35, 39.9): 'obesidade 2',\n",
    "    (40, float('inf')): 'obesidade 3'\n",
    "}\n",
    "\n",
    "# registrar input de usuário p/ PESO e ALTURA\n",
    "altura = float(input('sua altura(m): ').replace(',', '.'))\n",
    "peso = float(input('sua peso(kg): ').replace(',', '.')) \n",
    "\n",
    "#calculo de IMC\n",
    "imc = peso / (altura ** 2)\n",
    "\n",
    "# criar função de respostas booleanas de acordo com cada classificação p/ inputs do usuário\n",
    "def calculadora (imc: float, categorias_imc: dict):\n",
    "    categoria = None\n",
    "    for intervalo, titulo in categorias_imc.items():\n",
    "        if intervalo[0] <= imc <= intervalo[1]:\n",
    "            categoria = titulo\n",
    "            break\n",
    "    print('Categoria de IMC: ', categoria)\n",
    "\n",
    "# chamando funcao\n",
    "calculadora(imc, categorias_imc)"
   ]
  },
  {
   "cell_type": "code",
   "execution_count": null,
   "metadata": {},
   "outputs": [],
   "source": []
  }
 ],
 "metadata": {
  "kernelspec": {
   "display_name": "Python 3",
   "language": "python",
   "name": "python3"
  },
  "language_info": {
   "codemirror_mode": {
    "name": "ipython",
    "version": 3
   },
   "file_extension": ".py",
   "mimetype": "text/x-python",
   "name": "python",
   "nbconvert_exporter": "python",
   "pygments_lexer": "ipython3",
   "version": "3.10.6"
  },
  "orig_nbformat": 4
 },
 "nbformat": 4,
 "nbformat_minor": 2
}
