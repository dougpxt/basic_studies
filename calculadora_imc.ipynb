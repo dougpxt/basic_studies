{
 "cells": [
  {
   "cell_type": "code",
   "execution_count": 5,
   "metadata": {},
   "outputs": [
    {
     "name": "stdout",
     "output_type": "stream",
     "text": [
      "calculadora de IMC\n",
      "--------------------------------------------------\n",
      "Categoria de IMC:  peso normal\n"
     ]
    }
   ],
   "source": [
    "print('calculadora de IMC')\n",
    "print('-'*50)\n",
    "\n",
    "# criar tabela de medidas IMCs e suas classificações em um DICIONÁRIO\n",
    "categorias_imc = {\n",
    "    (0, 18.4): 'abaixo do peso',\n",
    "    (18.5, 24.9): 'peso normal',\n",
    "    (25, 29.9): 'acima do peso',\n",
    "    (30, 34.9): 'obesidade 1',\n",
    "    (35, 39.9): 'obesidade 2',\n",
    "    (40, float('inf')): 'obesidade 3'\n",
    "}\n",
    "\n",
    "# registrar input de usuário p/ PESO e ALTURA\n",
    "altura = input('sua altura(m): ').replace(',', '.')\n",
    "peso = input('sua peso(kg): ').replace(',', '.')\n",
    "\n",
    "#calculo de IMC\n",
    "imc = float(peso) / (float(altura) ** 2)\n",
    "\n",
    "# criar função de respostas booleanas de acordo com cada classificação p/ inputs do usuário\n",
    "def calculadora (imc: float, categorias_imc: dict):\n",
    "    categoria = None\n",
    "    for intervalo, titulo in categorias_imc.items():\n",
    "        if intervalo[0] <= imc <= intervalo[1]:\n",
    "            categoria = titulo\n",
    "            break\n",
    "    print('Categoria de IMC: ', categoria)\n",
    "\n",
    "# chamando funcao\n",
    "calculadora(imc, categorias_imc)"
   ]
  },
  {
   "cell_type": "code",
   "execution_count": null,
   "metadata": {},
   "outputs": [],
   "source": []
  }
 ],
 "metadata": {
  "kernelspec": {
   "display_name": "Python 3",
   "language": "python",
   "name": "python3"
  },
  "language_info": {
   "codemirror_mode": {
    "name": "ipython",
    "version": 3
   },
   "file_extension": ".py",
   "mimetype": "text/x-python",
   "name": "python",
   "nbconvert_exporter": "python",
   "pygments_lexer": "ipython3",
   "version": "3.10.6"
  },
  "orig_nbformat": 4
 },
 "nbformat": 4,
 "nbformat_minor": 2
}
