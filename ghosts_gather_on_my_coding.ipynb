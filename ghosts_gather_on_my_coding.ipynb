{
  "nbformat": 4,
  "nbformat_minor": 0,
  "metadata": {
    "colab": {
      "provenance": []
    },
    "kernelspec": {
      "name": "python3",
      "display_name": "Python 3"
    },
    "language_info": {
      "name": "python"
    }
  },
  "cells": [
    {
      "cell_type": "code",
      "execution_count": null,
      "metadata": {
        "id": "DsHKsehRfIR0"
      },
      "outputs": [],
      "source": [
        "#let me see what the ghosts will bring to me on this notebook"
      ]
    },
    {
      "cell_type": "code",
      "source": [
        "var_int = 30\n",
        "var_float = 1.5\n",
        "var_bool = False\n",
        "var_str = '50'"
      ],
      "metadata": {
        "id": "5IrISwpkh3_W"
      },
      "execution_count": null,
      "outputs": []
    },
    {
      "cell_type": "code",
      "source": [
        "print(float(var_int))"
      ],
      "metadata": {
        "colab": {
          "base_uri": "https://localhost:8080/"
        },
        "id": "0ysK6hf7uaEq",
        "outputId": "7ca946d4-2d2c-4b89-ddee-47afeb3d7e7c"
      },
      "execution_count": null,
      "outputs": [
        {
          "output_type": "stream",
          "name": "stdout",
          "text": [
            "30.0\n"
          ]
        }
      ]
    },
    {
      "cell_type": "code",
      "source": [
        "a = 8\n",
        "b = 10\n",
        "\n",
        "if a != b:\n",
        "  print('A é diferente de B')\n",
        "if a == b:\n",
        "  print('A é igual a B')\n",
        "elif a > b:\n",
        "  print('A é maior que B')\n",
        "elif a < b:\n",
        "  print('A é menor que B')"
      ],
      "metadata": {
        "colab": {
          "base_uri": "https://localhost:8080/"
        },
        "id": "sEIBE7dpugR2",
        "outputId": "90bc1fdb-16d9-429e-f956-2310718e031c"
      },
      "execution_count": null,
      "outputs": [
        {
          "output_type": "stream",
          "name": "stdout",
          "text": [
            "A é diferente de B\n",
            "A é menor que B\n"
          ]
        }
      ]
    },
    {
      "cell_type": "code",
      "source": [
        "root = '1234'\n",
        "senha = '1243'\n",
        "\n",
        "if root == 1234 and senha == 2345:\n",
        "  print('acesso permitido')\n",
        "else:\n",
        "  print('acesso negado')"
      ],
      "metadata": {
        "colab": {
          "base_uri": "https://localhost:8080/"
        },
        "id": "un8eeyqe0vRB",
        "outputId": "f471f327-4fd0-426c-8eb0-f2599dff09f3"
      },
      "execution_count": null,
      "outputs": [
        {
          "output_type": "stream",
          "name": "stdout",
          "text": [
            "acesso negado\n"
          ]
        }
      ]
    },
    {
      "cell_type": "code",
      "source": [
        "nome ='Douglas'\n",
        "idade = ''\n",
        "email = ''\n",
        "\n",
        "if nome =='' or idade == '' or email == '':\n",
        "  print('preencha todos os campos')\n",
        "else:\n",
        "  print('cadastro realizado com sucesso')"
      ],
      "metadata": {
        "colab": {
          "base_uri": "https://localhost:8080/"
        },
        "id": "_R38QIzE3voa",
        "outputId": "99d8ef27-7998-49b7-c79e-b967294f8f9a"
      },
      "execution_count": null,
      "outputs": [
        {
          "output_type": "stream",
          "name": "stdout",
          "text": [
            "preencha todos os campos\n"
          ]
        }
      ]
    },
    {
      "cell_type": "code",
      "source": [
        "nome ='Douglas'\n",
        "idade = ''\n",
        "email = ''\n",
        "\n",
        "if not nome:\n",
        "  print('preencha o campo')\n",
        "else:\n",
        "  print('campo preenchido')"
      ],
      "metadata": {
        "colab": {
          "base_uri": "https://localhost:8080/"
        },
        "id": "0AH_f4U25X6k",
        "outputId": "83c3bd1b-cddf-480f-f738-ab24454063b6"
      },
      "execution_count": null,
      "outputs": [
        {
          "output_type": "stream",
          "name": "stdout",
          "text": [
            "campo preenchido\n"
          ]
        }
      ]
    },
    {
      "cell_type": "code",
      "source": [
        "numero = 15\n",
        "\n",
        "if numero > 0:\n",
        "  print('numero é maior que 0')\n",
        "  if numero <= 50:\n",
        "    print('numero está entre 0 e 50')\n",
        "else:\n",
        "  print('numero é menor que 0')"
      ],
      "metadata": {
        "colab": {
          "base_uri": "https://localhost:8080/"
        },
        "id": "uQADelgp5757",
        "outputId": "edfb374c-0d6b-4d6c-8e11-41b0ba6cde8f"
      },
      "execution_count": null,
      "outputs": [
        {
          "output_type": "stream",
          "name": "stdout",
          "text": [
            "numero é maior que 0\n",
            "numero está entre 0 e 50\n"
          ]
        }
      ]
    },
    {
      "cell_type": "code",
      "source": [
        "input_name = input('')\n",
        "print('-'*60, end='\\nnome do cliente:\\n')\n",
        "\n",
        "if input_name == '':\n",
        "  cliente = 'Anonimo'\n",
        "else:\n",
        "  cliente = input_name\n",
        "print(cliente)"
      ],
      "metadata": {
        "colab": {
          "base_uri": "https://localhost:8080/"
        },
        "id": "Bwubxk2v9svr",
        "outputId": "d038c74d-d5c6-4a5d-e0f6-5347c13ae46b"
      },
      "execution_count": null,
      "outputs": [
        {
          "output_type": "stream",
          "name": "stdout",
          "text": [
            "douglas\n",
            "------------------------------------------------------------\n",
            "nome do cliente:\n",
            "douglas\n"
          ]
        }
      ]
    },
    {
      "cell_type": "code",
      "source": [
        "dentes_escovados = False\n",
        "vezes_escovadas = 0\n",
        "while vezes_escovadas <= 10:\n",
        "  print(vezes_escovadas)\n",
        "  vezes_escovadas += 1\n",
        "  dentes_escovados = True\n",
        "print(f'dentes estão escovados?: {dentes_escovados}')"
      ],
      "metadata": {
        "colab": {
          "base_uri": "https://localhost:8080/"
        },
        "id": "-vMfBgkmAR2C",
        "outputId": "4c1fc351-7966-45c0-b998-0f155f9cf8c2"
      },
      "execution_count": null,
      "outputs": [
        {
          "output_type": "stream",
          "name": "stdout",
          "text": [
            "0\n",
            "1\n",
            "2\n",
            "3\n",
            "4\n",
            "5\n",
            "6\n",
            "7\n",
            "8\n",
            "9\n",
            "10\n",
            "dentes estão escovados?: True\n"
          ]
        }
      ]
    },
    {
      "cell_type": "code",
      "source": [
        "n = int(input('digite um numero: '))\n",
        "d = n * 2\n",
        "t = n * 3\n",
        "r = n ** (1/2)\n",
        "print('o dobro de {} vale {}.'.format(n, d))\n",
        "print('o triplo de {} vale {}. A raiz quadrada de {} é igual a {}.'.format(n, t, n, r))\n"
      ],
      "metadata": {
        "colab": {
          "base_uri": "https://localhost:8080/"
        },
        "id": "CBKO7Jj1h1yx",
        "outputId": "4af127bd-4fdb-4821-e844-c9d60b066b5c"
      },
      "execution_count": null,
      "outputs": [
        {
          "output_type": "stream",
          "name": "stdout",
          "text": [
            "digite um numero: 2\n",
            "o dobro de 2 vale 4.\n",
            "o triplo de 2 vale 6. A raiz quadrada de 2 é igual a 1.4142135623730951.\n"
          ]
        }
      ]
    },
    {
      "cell_type": "code",
      "source": [
        "minutes = float(input('how many minutes do you want to convert? obs.: put seconds in float mode'))\n",
        "seconds = (minutes * 60)\n",
        "print(seconds)"
      ],
      "metadata": {
        "colab": {
          "base_uri": "https://localhost:8080/"
        },
        "id": "ulWDP2WDvVA-",
        "outputId": "17752cce-e591-4378-bc4c-929bf1f8b110"
      },
      "execution_count": null,
      "outputs": [
        {
          "output_type": "stream",
          "name": "stdout",
          "text": [
            "how many minutes do you want to convert? obs.: put seconds in float mode42.42\n",
            "2545.2000000000003\n"
          ]
        }
      ]
    },
    {
      "cell_type": "code",
      "source": [
        "especies_macaco = ['chimpanze', 'orangutando', 'gorila', 'babuino', 'mico', 'mandril', 'prego', 'gibao', 'bonobo', 'sagui', 'fuscata', 'langur', 'silenus', 'maura', 'berbere', 'pygathrix', 'nemestrina']\n",
        "\n",
        "vogais = 0\n",
        "# --------------------------------------------------\n",
        "print('-'*50)\n",
        "\n",
        "def numero_vogais_lista(lista):\n",
        "  global vogais\n",
        "  for palavra in lista:\n",
        "    palavras_unidas = ''.join(palavra)\n",
        "    print(palavras_unidas)\n",
        "    \n",
        "    for letra in palavras_unidas:\n",
        "      if letra == 'a' or letra == 'e' or letra == 'i' or letra == 'o' or letra == 'u' or letra == 'y':\n",
        "        vogais += 1\n",
        "      \n",
        "\n",
        "numero_vogais_lista(especies_macaco) #chamando a função de contagem de vogais\n",
        "print('-'*50)\n",
        "print(f'há {vogais} vogais na lista de macacos')"
      ],
      "metadata": {
        "id": "vlkTJlZqD1nD",
        "colab": {
          "base_uri": "https://localhost:8080/"
        },
        "outputId": "2be495ad-878c-45c0-c5fc-091a11f268d4"
      },
      "execution_count": null,
      "outputs": [
        {
          "output_type": "stream",
          "name": "stdout",
          "text": [
            "--------------------------------------------------\n",
            "chimpanze\n",
            "orangutando\n",
            "gorila\n",
            "babuino\n",
            "mico\n",
            "mandril\n",
            "prego\n",
            "gibao\n",
            "bonobo\n",
            "sagui\n",
            "fuscata\n",
            "langur\n",
            "silenus\n",
            "maura\n",
            "berbere\n",
            "pygathrix\n",
            "nemestrina\n",
            "--------------------------------------------------\n",
            "há 51 vogais na lista de macacos\n"
          ]
        }
      ]
    },
    {
      "cell_type": "code",
      "source": [
        "def maiusculo (texto: str) -> str:\n",
        "  texto_maiusculo = texto.upper()\n",
        "  return texto_maiusculo\n",
        "\n",
        "nome = 'Douglas'\n",
        "print(nome)\n",
        "\n",
        "nome_maiusculo = maiusculo(texto = nome)\n",
        "\n",
        "print(nome_maiusculo)"
      ],
      "metadata": {
        "colab": {
          "base_uri": "https://localhost:8080/"
        },
        "id": "DgQxklYojd83",
        "outputId": "799c7aa7-af1f-4b30-9acd-43593c434ca7"
      },
      "execution_count": null,
      "outputs": [
        {
          "output_type": "stream",
          "name": "stdout",
          "text": [
            "Douglas\n",
            "DOUGLAS\n"
          ]
        }
      ]
    },
    {
      "cell_type": "code",
      "source": [
        "print('Informe dois números para saber qual é o maior')\n",
        "print('-'*50)\n",
        "# ------------------------------------------------------------------------------\n",
        "primeiro = int(input('primeiro número: '))\n",
        "segundo = int(input('segundo número: '))\n",
        "print('-'*50)\n",
        "# ------------------------------------------------------------------------------\n",
        "\n",
        "diferenca = primeiro - segundo\n",
        "try:\n",
        "  if diferenca > 0:\n",
        "    print(f'o primeiro número ({primeiro}) é o maior')\n",
        "  elif diferenca < 0:\n",
        "    print(f'o segundo número ({segundo}) é o maior')\n",
        "  elif primeiro == segundo:\n",
        "    print('os dois números são iguais')\n",
        "except Exception as exc:\n",
        "  print('descrição do erro: ' + str(exc))\n",
        "  print('tipo do erro: ' + type(exc))\n",
        "  print('espera-se um valor inteiro, insira números sem vírgula/fracionados')"
      ],
      "metadata": {
        "colab": {
          "base_uri": "https://localhost:8080/"
        },
        "id": "ljaX8Y9kiamg",
        "outputId": "ae0032c0-732e-448e-c943-d591e6d6176f"
      },
      "execution_count": null,
      "outputs": [
        {
          "output_type": "stream",
          "name": "stdout",
          "text": [
            "Informe dois números para saber qual é o maior\n",
            "--------------------------------------------------\n"
          ]
        }
      ]
    },
    {
      "cell_type": "code",
      "source": [],
      "metadata": {
        "id": "-Snkk0LVl_tj"
      },
      "execution_count": null,
      "outputs": []
    }
  ]
}