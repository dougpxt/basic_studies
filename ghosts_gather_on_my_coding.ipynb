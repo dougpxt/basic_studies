{
  "nbformat": 4,
  "nbformat_minor": 0,
  "metadata": {
    "colab": {
      "provenance": [],
      "authorship_tag": "ABX9TyO5SGGJPBmr/xINgJQQnhrH",
      "include_colab_link": true
    },
    "kernelspec": {
      "name": "python3",
      "display_name": "Python 3"
    },
    "language_info": {
      "name": "python"
    }
  },
  "cells": [
    {
      "cell_type": "markdown",
      "metadata": {
        "id": "view-in-github",
        "colab_type": "text"
      },
      "source": [
        "<a href=\"https://colab.research.google.com/github/dougpxt/estudos/blob/main/ghosts_gather_on_my_coding.ipynb\" target=\"_parent\"><img src=\"https://colab.research.google.com/assets/colab-badge.svg\" alt=\"Open In Colab\"/></a>"
      ]
    },
    {
      "cell_type": "code",
      "execution_count": 1,
      "metadata": {
        "id": "DsHKsehRfIR0"
      },
      "outputs": [],
      "source": [
        "#let me see what the ghosts will bring to me on this notebook"
      ]
    },
    {
      "cell_type": "code",
      "source": [
        "var_int = 30\n",
        "var_float = 1.5\n",
        "var_bool = False\n",
        "var_str = '50'"
      ],
      "metadata": {
        "id": "5IrISwpkh3_W"
      },
      "execution_count": 2,
      "outputs": []
    },
    {
      "cell_type": "code",
      "source": [
        "print(float(var_int))"
      ],
      "metadata": {
        "colab": {
          "base_uri": "https://localhost:8080/"
        },
        "id": "0ysK6hf7uaEq",
        "outputId": "e80e3a0d-e311-4e6c-a223-cf9d72afdad4"
      },
      "execution_count": 3,
      "outputs": [
        {
          "output_type": "stream",
          "name": "stdout",
          "text": [
            "30.0\n"
          ]
        }
      ]
    },
    {
      "cell_type": "code",
      "source": [
        "a = 8\n",
        "b = 10\n",
        "\n",
        "if a != b:\n",
        "  print('A é diferente de B')\n",
        "if a == b:\n",
        "  print('A é igual a B')\n",
        "elif a > b:\n",
        "  print('A é maior que B')\n",
        "elif a < b:\n",
        "  print('A é menor que B')"
      ],
      "metadata": {
        "colab": {
          "base_uri": "https://localhost:8080/"
        },
        "id": "sEIBE7dpugR2",
        "outputId": "b4a5e5d3-877c-4d28-ff44-8d41458e556a"
      },
      "execution_count": 4,
      "outputs": [
        {
          "output_type": "stream",
          "name": "stdout",
          "text": [
            "A é diferente de B\n",
            "A é menor que B\n"
          ]
        }
      ]
    },
    {
      "cell_type": "code",
      "source": [
        "root = '1234'\n",
        "senha = '1243'\n",
        "\n",
        "if root == 1234 and senha == 2345:\n",
        "  print('acesso permitido')\n",
        "else:\n",
        "  print('acesso negado')"
      ],
      "metadata": {
        "colab": {
          "base_uri": "https://localhost:8080/"
        },
        "id": "un8eeyqe0vRB",
        "outputId": "952b0dfe-bed4-4ffd-9fee-188845164b8a"
      },
      "execution_count": 5,
      "outputs": [
        {
          "output_type": "stream",
          "name": "stdout",
          "text": [
            "acesso negado\n"
          ]
        }
      ]
    },
    {
      "cell_type": "code",
      "source": [
        "nome ='Douglas'\n",
        "idade = ''\n",
        "email = ''\n",
        "\n",
        "if nome =='' or idade == '' or email == '':\n",
        "  print('preencha todos os campos')\n",
        "else:\n",
        "  print('cadastro realizado com sucesso')"
      ],
      "metadata": {
        "colab": {
          "base_uri": "https://localhost:8080/"
        },
        "id": "_R38QIzE3voa",
        "outputId": "1451de5e-a8d5-4ab4-b6b5-861cfe172662"
      },
      "execution_count": 6,
      "outputs": [
        {
          "output_type": "stream",
          "name": "stdout",
          "text": [
            "preencha todos os campos\n"
          ]
        }
      ]
    },
    {
      "cell_type": "code",
      "source": [
        "nome ='Douglas'\n",
        "idade = ''\n",
        "email = ''\n",
        "\n",
        "if not nome:\n",
        "  print('preencha o campo')\n",
        "else:\n",
        "  print('campo preenchido')"
      ],
      "metadata": {
        "colab": {
          "base_uri": "https://localhost:8080/"
        },
        "id": "0AH_f4U25X6k",
        "outputId": "cde4faba-4c72-4f9c-9cf1-19e3af50e14a"
      },
      "execution_count": 7,
      "outputs": [
        {
          "output_type": "stream",
          "name": "stdout",
          "text": [
            "campo preenchido\n"
          ]
        }
      ]
    },
    {
      "cell_type": "code",
      "source": [
        "numero = 15\n",
        "\n",
        "if numero > 0:\n",
        "  print('numero é maior que 0')\n",
        "  if numero <= 50:\n",
        "    print('numero está entre 0 e 50')\n",
        "else:\n",
        "  print('numero é menor que 0')"
      ],
      "metadata": {
        "colab": {
          "base_uri": "https://localhost:8080/"
        },
        "id": "uQADelgp5757",
        "outputId": "fee3cc96-45ac-4650-cb02-15b9ee43ea8b"
      },
      "execution_count": 8,
      "outputs": [
        {
          "output_type": "stream",
          "name": "stdout",
          "text": [
            "numero é maior que 0\n",
            "numero está entre 0 e 50\n"
          ]
        }
      ]
    },
    {
      "cell_type": "code",
      "source": [
        "input_name = input('')\n",
        "print('-'*60, end='\\nnome do cliente:\\n')\n",
        "\n",
        "if input_name == '':\n",
        "  cliente = 'Anonimo'\n",
        "else:\n",
        "  cliente = input_name\n",
        "print(cliente)"
      ],
      "metadata": {
        "colab": {
          "base_uri": "https://localhost:8080/"
        },
        "id": "Bwubxk2v9svr",
        "outputId": "e9388d32-6eb2-4eeb-dca5-390e1fb86f4a"
      },
      "execution_count": 9,
      "outputs": [
        {
          "output_type": "stream",
          "name": "stdout",
          "text": [
            "Douglas\n",
            "------------------------------------------------------------\n",
            "nome do cliente:\n",
            "Douglas\n"
          ]
        }
      ]
    },
    {
      "cell_type": "code",
      "source": [
        "dentes_escovados = False\n",
        "vezes_escovadas = 0\n",
        "while vezes_escovadas <= 10:\n",
        "  print(vezes_escovadas)\n",
        "  vezes_escovadas += 1\n",
        "  dentes_escovados = True\n",
        "print(f'dentes estão escovados?: {dentes_escovados}')"
      ],
      "metadata": {
        "colab": {
          "base_uri": "https://localhost:8080/"
        },
        "id": "-vMfBgkmAR2C",
        "outputId": "88fbac9f-4d3e-4348-9e3a-b9cde9619cdf"
      },
      "execution_count": 10,
      "outputs": [
        {
          "output_type": "stream",
          "name": "stdout",
          "text": [
            "0\n",
            "1\n",
            "2\n",
            "3\n",
            "4\n",
            "5\n",
            "6\n",
            "7\n",
            "8\n",
            "9\n",
            "10\n",
            "dentes estão escovados?: True\n"
          ]
        }
      ]
    },
    {
      "cell_type": "code",
      "source": [
        "n = int(input('digite um numero: '))\n",
        "d = n * 2\n",
        "t = n * 3\n",
        "r = n ** (1/2)\n",
        "print('o dobro de {} vale {}.'.format(n, d))\n",
        "print('o triplo de {} vale {}. A raiz quadrada de {} é igual a {}.'.format(n, t, n, r))\n"
      ],
      "metadata": {
        "colab": {
          "base_uri": "https://localhost:8080/"
        },
        "id": "CBKO7Jj1h1yx",
        "outputId": "1df42768-b570-4306-ccc1-51774aa14c47"
      },
      "execution_count": 11,
      "outputs": [
        {
          "output_type": "stream",
          "name": "stdout",
          "text": [
            "digite um numero: 5\n",
            "o dobro de 5 vale 10.\n",
            "o triplo de 5 vale 15. A raiz quadrada de 5 é igual a 2.23606797749979.\n"
          ]
        }
      ]
    },
    {
      "cell_type": "code",
      "source": [
        "minutes = float(input('how many minutes do you want to convert? obs.: put seconds in float mode'))\n",
        "seconds = (minutes * 60)\n",
        "print(seconds)"
      ],
      "metadata": {
        "colab": {
          "base_uri": "https://localhost:8080/"
        },
        "id": "ulWDP2WDvVA-",
        "outputId": "a23976c0-1e37-479e-a5ad-343cfa0bc450"
      },
      "execution_count": 12,
      "outputs": [
        {
          "output_type": "stream",
          "name": "stdout",
          "text": [
            "how many minutes do you want to convert? obs.: put seconds in float mode6\n",
            "360.0\n"
          ]
        }
      ]
    },
    {
      "cell_type": "code",
      "source": [
        "especies_macaco = ['chimpanze', 'orangutando', 'gorila', 'babuino', 'mico', 'mandril', 'prego', 'gibao', 'bonobo', 'sagui', 'fuscata', 'langur', 'silenus', 'maura', 'berbere', 'pygathrix', 'nemestrina']\n",
        "\n",
        "vogais = 0\n",
        "# --------------------------------------------------\n",
        "print('-'*50)\n",
        "\n",
        "def numero_vogais_lista(lista):\n",
        "  global vogais\n",
        "  for palavra in lista:\n",
        "    palavras_unidas = ''.join(palavra)\n",
        "    print(palavras_unidas)\n",
        "    \n",
        "    for letra in palavras_unidas:\n",
        "      if letra == 'a' or letra == 'e' or letra == 'i' or letra == 'o' or letra == 'u' or letra == 'y':\n",
        "        vogais += 1\n",
        "      \n",
        "\n",
        "numero_vogais_lista(especies_macaco) #chamando a função de contagem de vogais\n",
        "print('-'*50)\n",
        "print(f'há {vogais} vogais na lista de macacos')"
      ],
      "metadata": {
        "id": "vlkTJlZqD1nD",
        "colab": {
          "base_uri": "https://localhost:8080/"
        },
        "outputId": "1b0fb2f8-bcfa-4a6a-fa07-f46589222d31"
      },
      "execution_count": 13,
      "outputs": [
        {
          "output_type": "stream",
          "name": "stdout",
          "text": [
            "--------------------------------------------------\n",
            "chimpanze\n",
            "orangutando\n",
            "gorila\n",
            "babuino\n",
            "mico\n",
            "mandril\n",
            "prego\n",
            "gibao\n",
            "bonobo\n",
            "sagui\n",
            "fuscata\n",
            "langur\n",
            "silenus\n",
            "maura\n",
            "berbere\n",
            "pygathrix\n",
            "nemestrina\n",
            "--------------------------------------------------\n",
            "há 51 vogais na lista de macacos\n"
          ]
        }
      ]
    },
    {
      "cell_type": "code",
      "source": [
        "def maiusculo (texto: str) -> str:\n",
        "  texto_maiusculo = texto.upper()\n",
        "  return texto_maiusculo\n",
        "\n",
        "nome = 'Douglas'\n",
        "print(nome)\n",
        "\n",
        "nome_maiusculo = maiusculo(texto = nome)\n",
        "\n",
        "print(nome_maiusculo)"
      ],
      "metadata": {
        "colab": {
          "base_uri": "https://localhost:8080/"
        },
        "id": "DgQxklYojd83",
        "outputId": "58618765-dd20-42f2-9098-50d460a5203b"
      },
      "execution_count": 14,
      "outputs": [
        {
          "output_type": "stream",
          "name": "stdout",
          "text": [
            "Douglas\n",
            "DOUGLAS\n"
          ]
        }
      ]
    },
    {
      "cell_type": "code",
      "source": [
        "print('Informe dois números para saber qual é o maior')\n",
        "print('-'*50)\n",
        "# ------------------------------------------------------------------------------\n",
        "primeiro = int(input('primeiro número: '))\n",
        "segundo = int(input('segundo número: '))\n",
        "print('-'*50)\n",
        "# ------------------------------------------------------------------------------\n",
        "\n",
        "diferenca = primeiro - segundo\n",
        "try:\n",
        "  if diferenca > 0:\n",
        "    print(f'o primeiro número ({primeiro}) é o maior')\n",
        "  elif diferenca < 0:\n",
        "    print(f'o segundo número ({segundo}) é o maior')\n",
        "  elif primeiro == segundo:\n",
        "    print('os dois números são iguais')\n",
        "except Exception as exc:\n",
        "  print('descrição do erro: ' + str(exc))\n",
        "  print('tipo do erro: ' + type(exc))\n",
        "  print('espera-se um valor inteiro, insira números sem vírgula/fracionados')"
      ],
      "metadata": {
        "colab": {
          "base_uri": "https://localhost:8080/"
        },
        "id": "ljaX8Y9kiamg",
        "outputId": "918a1764-d5eb-4400-a1c3-e425b2179644"
      },
      "execution_count": 15,
      "outputs": [
        {
          "output_type": "stream",
          "name": "stdout",
          "text": [
            "Informe dois números para saber qual é o maior\n",
            "--------------------------------------------------\n",
            "primeiro número: 6\n",
            "segundo número: 20\n",
            "--------------------------------------------------\n",
            "o segundo número (20) é o maior\n"
          ]
        }
      ]
    },
    {
      "cell_type": "code",
      "source": [],
      "metadata": {
        "id": "-Snkk0LVl_tj"
      },
      "execution_count": 15,
      "outputs": []
    }
  ]
}